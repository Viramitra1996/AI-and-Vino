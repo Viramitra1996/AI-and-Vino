{
 "cells": [
  {
   "cell_type": "code",
   "execution_count": 1,
   "metadata": {},
   "outputs": [],
   "source": [
    "import sys\n",
    "import os\n",
    "from time import time\n",
    "import numpy as np\n",
    "import pandas as pd\n",
    "\n",
    "import seaborn as sns\n",
    "import matplotlib.pyplot as plt\n",
    "\n",
    "from collections import Counter\n",
    "from scipy.stats import norm "
   ]
  },
  {
   "cell_type": "code",
   "execution_count": 2,
   "metadata": {},
   "outputs": [],
   "source": [
    "# Some Basic Parameters for housekeeping\n",
    "\n",
    "# set location of input files:\n",
    "inpDir = os.path.join('..', 'input')\n",
    "\n",
    "# set location of inputs for this module\n",
    "moduleDir = 'machine_learning'\n",
    "\n",
    "# set location of output files\n",
    "outDir = os.path.join('..', 'output')"
   ]
  },
  {
   "cell_type": "code",
   "execution_count": 13,
   "metadata": {},
   "outputs": [
    {
     "data": {
      "text/html": [
       "<div>\n",
       "<style scoped>\n",
       "    .dataframe tbody tr th:only-of-type {\n",
       "        vertical-align: middle;\n",
       "    }\n",
       "\n",
       "    .dataframe tbody tr th {\n",
       "        vertical-align: top;\n",
       "    }\n",
       "\n",
       "    .dataframe thead th {\n",
       "        text-align: right;\n",
       "    }\n",
       "</style>\n",
       "<table border=\"1\" class=\"dataframe\">\n",
       "  <thead>\n",
       "    <tr style=\"text-align: right;\">\n",
       "      <th></th>\n",
       "      <th>sepal length</th>\n",
       "      <th>sepal width</th>\n",
       "      <th>petal length</th>\n",
       "      <th>petal width</th>\n",
       "      <th>target</th>\n",
       "    </tr>\n",
       "  </thead>\n",
       "  <tbody>\n",
       "    <tr>\n",
       "      <th>0</th>\n",
       "      <td>5.1</td>\n",
       "      <td>3.5</td>\n",
       "      <td>1.4</td>\n",
       "      <td>0.2</td>\n",
       "      <td>0</td>\n",
       "    </tr>\n",
       "    <tr>\n",
       "      <th>1</th>\n",
       "      <td>4.9</td>\n",
       "      <td>3.0</td>\n",
       "      <td>1.4</td>\n",
       "      <td>0.2</td>\n",
       "      <td>0</td>\n",
       "    </tr>\n",
       "    <tr>\n",
       "      <th>2</th>\n",
       "      <td>4.7</td>\n",
       "      <td>3.2</td>\n",
       "      <td>1.3</td>\n",
       "      <td>0.2</td>\n",
       "      <td>0</td>\n",
       "    </tr>\n",
       "    <tr>\n",
       "      <th>3</th>\n",
       "      <td>4.6</td>\n",
       "      <td>3.1</td>\n",
       "      <td>1.5</td>\n",
       "      <td>0.2</td>\n",
       "      <td>0</td>\n",
       "    </tr>\n",
       "    <tr>\n",
       "      <th>4</th>\n",
       "      <td>5.0</td>\n",
       "      <td>3.6</td>\n",
       "      <td>1.4</td>\n",
       "      <td>0.2</td>\n",
       "      <td>0</td>\n",
       "    </tr>\n",
       "  </tbody>\n",
       "</table>\n",
       "</div>"
      ],
      "text/plain": [
       "   sepal length  sepal width   petal length  petal width  target\n",
       "0           5.1           3.5           1.4          0.2       0\n",
       "1           4.9           3.0           1.4          0.2       0\n",
       "2           4.7           3.2           1.3          0.2       0\n",
       "3           4.6           3.1           1.5          0.2       0\n",
       "4           5.0           3.6           1.4          0.2       0"
      ]
     },
     "execution_count": 13,
     "metadata": {},
     "output_type": "execute_result"
    }
   ],
   "source": [
    "iris_file= os.path.join(inpDir, moduleDir, 'iris.csv')\n",
    "iris_features=['sepal length',\n",
    "               'sepal width ',\n",
    "               'petal length',\n",
    "               'petal width',\n",
    "               'target']\n",
    "iris_df=pd.read_csv(iris_file,sep=',',skiprows=1,header=None,names=iris_features)\n",
    "iris_df.head()\n"
   ]
  },
  {
   "cell_type": "code",
   "execution_count": 11,
   "metadata": {},
   "outputs": [
    {
     "data": {
      "image/png": "[encoded data removed]",
      "text/plain": [
       "<Figure size 1080x648 with 4 Axes>"
      ]
     },
     "metadata": {
      "needs_background": "light"
     },
     "output_type": "display_data"
    }
   ],
   "source": [
    "fig=plt.figure(figsize=(15,9))\n",
    "fig.suptitle('Iris Dataset')\n",
    "\n",
    "for count,col in enumerate(iris_df.columns[:-1]):\n",
    "    ax=fig.add_subplot(2,2,count+1)\n",
    "    plt.subplots_adjust(wspace=0.1,hspace=0.1)\n",
    "    n,bins,patches=ax.hist(iris_df[col],30)\n",
    "    ax.set_title('{}'.format(iris_df.columns[count]))\n",
    "    ax.axis('tight')\n",
    "plt.tight_layout()\n",
    "plt.show()"
   ]
  },
  {
   "cell_type": "code",
   "execution_count": null,
   "metadata": {},
   "outputs": [],
   "source": [
    "features_df= iris_df.drop('target',axis=1)\n",
    "labels_df=iris_df[['target']]\n",
    "features_df.head()"
   ]
  },
  {
   "cell_type": "code",
   "execution_count": null,
   "metadata": {},
   "outputs": [],
   "source": [
    "labels_df.head()"
   ]
  },
  {
   "cell_type": "code",
   "execution_count": null,
   "metadata": {},
   "outputs": [],
   "source": [
    "##Function to calculate mean , standerd deviation \n",
    "\n",
    "def fn_calc_mu_std(df):\n",
    "    \n",
    "    \n",
    "    mu={}\n",
    "    std_dev={}\n",
    "    min_val={}\n",
    "    max_val={}\n",
    "    \n",
    "    for col in df.columns:\n",
    "        mu[col]=df[col].mean()\n",
    "        std_dev[col]=df[col].std()\n",
    "        min_val[col]=df[col].min()\n",
    "        max_val[col]=df[col].max()\n",
    "        \n",
    "    return mu,std_dev,min_val,max_val"
   ]
  },
  {
   "cell_type": "code",
   "execution_count": null,
   "metadata": {},
   "outputs": [],
   "source": [
    "target_names=['setosa','versicolor','virginica']\n",
    "formatter=plt.FuncFormatter(lambda i,*args: target_names[int(i)])\n",
    "\n",
    "props=dict(boxstyle='round',facecolor='aqua',alpha=0.5)"
   ]
  },
  {
   "cell_type": "code",
   "execution_count": null,
   "metadata": {},
   "outputs": [],
   "source": [
    "pdf_label={}\n",
    "\n",
    "for lbl in iris_df['target'].unique():\n",
    "    label=target_names[lbl]\n",
    "    tmp_df=iris_df[iris_df['target']==lbl]\n",
    "    tmp_df=tmp_df.drop('target',axis=1)\n",
    "    mu, std_dev,min_val,max_val=fn_calc_mu_std(tmp_df)\n",
    "    \n",
    "    fig, axes =plt.subplots(2,2,figsize=(15,9))\n",
    "    fig.suptitle(f'{label.title()}(class={lbl:2d})',fontsize=16)\n",
    "    nSample=1000\n",
    "    pdf_col={}\n",
    "    \n",
    "    for count,col in enumerate(tmp_df.columns):\n",
    "        ax=axes.ravel()[count]\n",
    "        meanVal=mu[col]\n",
    "        stdDev=std_dev[col]\n",
    "        minVal=min_val[col]\n",
    "        maxVal=max_val[col]\n",
    "        data= np.random.normal(meanVal,stdDev,nSample)\n",
    "        \n",
    "        ax.hist(data,bins=50,density=True,alpha=0.5,color='b',edgecolor='k')\n",
    "        x=np.linspace(data.min()-0.1,data.max()+0.1,nSample)\n",
    "        pdf=norm.pdf(x,meanVal,stdDev)\n",
    "        ax.plot(x,pdf,'r-',lw=2)\n",
    "        \n",
    "        val=features_df.iloc[-1][col]\n",
    "        pdf_val=norm.pdf(val,meanVal,stdDev) \n",
    "        pdf_col[col]=pdf_val\n",
    "        \n",
    "        ax.axvline(x=val,color='g',linestyle='-.',linewidth=2)\n",
    "        ax.axhline(y=pdf_val,color='g',linestyle='-.',linewidth=2)\n",
    "        \n",
    "        fmStr= \"For:\\n Mu : {:7.4f}\\n  Std  : {:7.4f}\\n Value:{:5.2f}\\n  PDF :{:7.4f}\"\n",
    "        txtStr=fmStr.format(meanVal, stdDev, val, pdf_val)\n",
    "        \n",
    "        ax.text(0.8,0.95,txtStr,transform=ax.transAxes,fontsize=10,verticalalignment='top',bbox=props)\n",
    "        \n",
    "        ax.set_title(col.title())\n",
    "        ax.set_xlabel(f\"Value (for {val}, pdf={pdf_val:.4f})\")\n",
    "        ax.set_ylabel(\"Likelihood\")  \n",
    "        \n",
    "    pdf_label[label]=pdf_col\n",
    "    plt.tight_layout()\n",
    "    plt.savefig(os.path.join(outDir,f'gaussian_iris_{label}.png'))\n",
    "    plt.show()   "
   ]
  }
 ],
 "metadata": {
  "kernelspec": {
   "display_name": "Python 3 (ipykernel)",
   "language": "python",
   "name": "python3"
  },
  "language_info": {
   "codemirror_mode": {
    "name": "ipython",
    "version": 3
   },
   "file_extension": ".py",
   "mimetype": "text/x-python",
   "name": "python",
   "nbconvert_exporter": "python",
   "pygments_lexer": "ipython3",
   "version": "3.10.7"
  }
 },
 "nbformat": 4,
 "nbformat_minor": 2
}
